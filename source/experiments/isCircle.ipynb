{
 "cells": [
  {
   "cell_type": "code",
   "execution_count": 15,
   "metadata": {},
   "outputs": [],
   "source": [
    "import numpy as np\n",
    "import cv2 as cv\n",
    "from matplotlib import pyplot as plt\n",
    "from pathlib import Path\n",
    "import math\n",
    "# from ipynb.fs.full.functions import isCircle\n",
    "from functions import isCircle\n",
    "\n",
    "imageName = '2024-05-09_09-34-35_original'\n",
    "writeToFile = True\n",
    "outputFolder = f'../data/output/{imageName}'\n",
    "Path(outputFolder).mkdir(parents=True, exist_ok=True)\n",
    "diceWidth = 35\n",
    "\n",
    "original = cv.imread(f'../data/original/{imageName}.png')\n",
    "assert original is not None, \"file could not be read\""
   ]
  },
  {
   "cell_type": "code",
   "execution_count": 16,
   "metadata": {},
   "outputs": [],
   "source": [
    "sectorDimensions = [[174, 420, 5, 7, 176.5, 423.5],\n",
    " [174, 433, 6, 7, 177.0, 436.5],\n",
    " [175, 446, 5, 8, 177.5, 450.0],\n",
    " [187, 413, 6, 5, 190.0, 415.5],\n",
    " [187, 454, 7, 6, 190.5, 457.0],\n",
    " [194, 414, 7, 4, 197.5, 416.0],\n",
    " [196, 425, 7, 5, 199.5, 427.5],\n",
    " [197, 440, 8, 6, 201.0, 443.0],\n",
    " [199, 447, 7, 7, 202.5, 450.5],\n",
    " [201, 455, 7, 5, 204.5, 457.5],\n",
    " [204, 426, 7, 5, 207.5, 428.5],\n",
    " [208, 439, 10, 9, 213.0, 443.5],\n",
    " [211, 426, 6, 5, 214.0, 428.5],\n",
    " [229, 437, 8, 8, 233.0, 441.0],\n",
    " [236, 444, 9, 8, 240.5, 448.0],\n",
    " [243, 451, 9, 8, 247.5, 455.0],\n",
    " [244, 424, 9, 8, 248.5, 428.0],\n",
    " [252, 430, 9, 9, 256.5, 434.5],\n",
    " [259, 438, 9, 7, 263.5, 441.5],\n",
    " [356, 374, 8, 9, 360.0, 378.5],\n",
    " [359, 352, 8, 9, 363.0, 356.5],\n",
    " [376, 376, 7, 8, 379.5, 380.0],\n",
    " [379, 354, 7, 9, 382.5, 358.5]]"
   ]
  },
  {
   "cell_type": "code",
   "execution_count": null,
   "metadata": {},
   "outputs": [],
   "source": [
    "plt.figure(figsize=(30, 5))\n",
    "\n",
    "index = 1\n",
    "tmpImg2 = original.copy()\n",
    "\n",
    "for index, dimension in enumerate(sectorDimensions):\n",
    "    dimension = sectorDimensions[index]\n",
    "\n",
    "    errorLevel = isCircle(dimension, original)\n",
    "\n",
    "    color = (0, 0, 255)\n",
    "    if errorLevel < 1:\n",
    "        color = (0, 255, 0)\n",
    "\n",
    "    tmpImg2 = cv.circle(\n",
    "        tmpImg2, (math.floor(dimension[5]), math.floor(dimension[4])), 5, color, -1\n",
    "    )\n",
    "\n",
    "if writeToFile:\n",
    "    cv.imwrite(f\"{outputFolder}/valid_dots.png\", tmpImg2)\n",
    "    \n",
    "    \n",
    "plt.subplot(1, 2, 1)\n",
    "plt.imshow(cv.cvtColor(tmpImg2, cv.COLOR_BGR2RGB))\n",
    "plt.axis(\"off\")"
   ]
  },
  {
   "cell_type": "code",
   "execution_count": null,
   "metadata": {},
   "outputs": [],
   "source": []
  }
 ],
 "metadata": {
  "kernelspec": {
   "display_name": "dice-image-recognition",
   "language": "python",
   "name": "python3"
  },
  "language_info": {
   "codemirror_mode": {
    "name": "ipython",
    "version": 3
   },
   "file_extension": ".py",
   "mimetype": "text/x-python",
   "name": "python",
   "nbconvert_exporter": "python",
   "pygments_lexer": "ipython3",
   "version": "3.12.6"
  }
 },
 "nbformat": 4,
 "nbformat_minor": 2
}
